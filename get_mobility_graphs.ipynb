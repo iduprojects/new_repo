{
 "cells": [
  {
   "cell_type": "code",
   "execution_count": 1,
   "metadata": {},
   "outputs": [
    {
     "name": "stderr",
     "output_type": "stream",
     "text": [
      "/var/essdata/IDU/venvs/common_venv/lib/python3.9/site-packages/geopandas/_compat.py:111: UserWarning: The Shapely GEOS version (3.10.3-CAPI-1.16.1) is incompatible with the GEOS version PyGEOS was compiled with (3.10.1-CAPI-1.16.0). Conversions between both will be slow.\n",
      "  warnings.warn(\n"
     ]
    }
   ],
   "source": [
    "import sys\n",
    "import os\n",
    "import networkx as nx\n",
    "\n",
    "# path to folder to CityGeoTools\n",
    "#path = '/'.join(os.getcwd().split('/')[:-1])\n",
    "#sys.path.append(path)\n",
    "\n",
    "from scr.CityGeoTools.data_collecting.get_graphs import get_osmnx_graph, get_public_trasport_graph, get_intermodal_graph"
   ]
  },
  {
   "attachments": {},
   "cell_type": "markdown",
   "metadata": {},
   "source": [
    "### Get graph from OSMNX (walk or drive)\n",
    "\n",
    "***function*** get_osmnx_graph(city_osm_id, city_crs, graph_type, speed=None)\n",
    "  \n",
    "**city_osm_id:** integer  \n",
    "**city_crs:** integer (*EPSG projection*)  \n",
    "**graph_type**: string (*'walk' or 'drive'*)  \n",
    "**speed**: float (*default None which means 4 km per hour for walk and 17 km per hour for drive*)\n"
   ]
  },
  {
   "cell_type": "code",
   "execution_count": 2,
   "metadata": {},
   "outputs": [
    {
     "name": "stdout",
     "output_type": "stream",
     "text": [
      "Extracting and preparing walk graph...\n"
     ]
    },
    {
     "name": "stderr",
     "output_type": "stream",
     "text": [
      "100%|██████████| 945862/945862 [02:10<00:00, 7226.12it/s] \n"
     ]
    },
    {
     "name": "stdout",
     "output_type": "stream",
     "text": [
      "Walk graph done!\n",
      "Extracting and preparing drive graph...\n"
     ]
    },
    {
     "name": "stderr",
     "output_type": "stream",
     "text": [
      "100%|██████████| 50418/50418 [00:06<00:00, 7884.05it/s] \n"
     ]
    },
    {
     "name": "stdout",
     "output_type": "stream",
     "text": [
      "Drive graph done!\n"
     ]
    }
   ],
   "source": [
    "# 337422 - city osm ID for Saint-Petersburg\n",
    "# 32636 - EPSG projection for 36 UTM zone where Saint-Petersburg is located\n",
    "\n",
    "walk_G = get_osmnx_graph(337422, 32636, 'walk')\n",
    "drive_G = get_osmnx_graph(337422, 32636, 'drive')"
   ]
  },
  {
   "cell_type": "code",
   "execution_count": null,
   "metadata": {},
   "outputs": [],
   "source": [
    "nx.write_graphml(walk_G, \"./graph.graphml\")\n",
    "nx.write_graphml(drive_G, \"./graph.graphml\")"
   ]
  },
  {
   "attachments": {},
   "cell_type": "markdown",
   "metadata": {},
   "source": [
    "### Get graph with public transport routes\n",
    "\n",
    "***function*** get_public_trasport_graph(city_osm_id, city_crs, transport_types_speed)\n",
    "  \n",
    "**city_osm_id:** integer  \n",
    "**city_crs:** integer (*EPSG projection*)  \n",
    "**transport_types_speed**: dictionary where keys - transport types, values - speeds  \n",
    "*(default None which means 12 km/h for subway, 15 km/h for tram, 12 km/h for trolleybus, 17 km/h for bus)*"
   ]
  },
  {
   "cell_type": "code",
   "execution_count": 12,
   "metadata": {},
   "outputs": [
    {
     "name": "stdout",
     "output_type": "stream",
     "text": [
      "Another attempt to get response from Overpass API...\n",
      "Another attempt to get response from Overpass API...\n",
      "Extracting and preparing subway routes:\n"
     ]
    },
    {
     "name": "stderr",
     "output_type": "stream",
     "text": [
      "100%|██████████| 10/10 [00:02<00:00,  4.04it/s]\n"
     ]
    },
    {
     "name": "stdout",
     "output_type": "stream",
     "text": [
      "Extracting and preparing tram routes:\n"
     ]
    },
    {
     "name": "stderr",
     "output_type": "stream",
     "text": [
      "100%|██████████| 81/81 [01:04<00:00,  1.26it/s]\n"
     ]
    },
    {
     "name": "stdout",
     "output_type": "stream",
     "text": [
      "Another attempt to get response from Overpass API...\n",
      "Extracting and preparing trolleybus routes:\n"
     ]
    },
    {
     "name": "stderr",
     "output_type": "stream",
     "text": [
      "100%|██████████| 90/90 [04:30<00:00,  3.00s/it]\n"
     ]
    },
    {
     "name": "stdout",
     "output_type": "stream",
     "text": [
      "Another attempt to get response from Overpass API...\n",
      "Extracting and preparing bus routes:\n"
     ]
    },
    {
     "name": "stderr",
     "output_type": "stream",
     "text": [
      "100%|██████████| 1012/1012 [32:43<00:00,  1.94s/it] \n"
     ]
    },
    {
     "name": "stdout",
     "output_type": "stream",
     "text": [
      "Public transport graph done!\n"
     ]
    }
   ],
   "source": [
    "public_transport_G = get_public_trasport_graph(337422, 32636)"
   ]
  },
  {
   "attachments": {},
   "cell_type": "markdown",
   "metadata": {},
   "source": [
    "### Get intermodal graph\n",
    "\n",
    "***function*** get_intermodal_graph(city_osm_id, city_crs, public_transport_speeds, \n",
    "walk_speed = 66.66, drive_speed = 283.33)\n",
    "  \n",
    "**city_osm_id:** integer  \n",
    "**city_crs:** integer (*EPSG projection*)  \n",
    "**public_transport_speeds:** dictionary where keys - transport types, values - speeds  \n",
    "(*default None which means 12 km/h for subway, 15 km/h for tram, 12 km/h for trolleybus, 17 km/h for bus*)  \n",
    "**walk_speed:** float (*default None which means 4 km/h*)  \n",
    "**drive_speed:** float (*default None which means 17 km/h*)\n"
   ]
  },
  {
   "cell_type": "code",
   "execution_count": 4,
   "metadata": {},
   "outputs": [
    {
     "name": "stdout",
     "output_type": "stream",
     "text": [
      "Extracting and preparing walk graph...\n"
     ]
    },
    {
     "name": "stderr",
     "output_type": "stream",
     "text": [
      "100%|██████████| 891382/891382 [02:32<00:00, 5837.70it/s]\n"
     ]
    },
    {
     "name": "stdout",
     "output_type": "stream",
     "text": [
      "Walk graph done!\n",
      "Another attempt...\n",
      "Extracting and preparing drive graph...\n"
     ]
    },
    {
     "name": "stderr",
     "output_type": "stream",
     "text": [
      "100%|██████████| 49102/49102 [00:08<00:00, 5959.46it/s]\n"
     ]
    },
    {
     "name": "stdout",
     "output_type": "stream",
     "text": [
      "Drive graph done!\n",
      "Extracting and preparing subway routes:\n"
     ]
    },
    {
     "name": "stderr",
     "output_type": "stream",
     "text": [
      "100%|██████████| 10/10 [00:04<00:00,  2.26it/s]\n"
     ]
    },
    {
     "name": "stdout",
     "output_type": "stream",
     "text": [
      "Extracting and preparing tram routes:\n"
     ]
    },
    {
     "name": "stderr",
     "output_type": "stream",
     "text": [
      "100%|██████████| 83/83 [01:13<00:00,  1.13it/s]\n"
     ]
    },
    {
     "name": "stdout",
     "output_type": "stream",
     "text": [
      "Extracting and preparing trolleybus routes:\n"
     ]
    },
    {
     "name": "stderr",
     "output_type": "stream",
     "text": [
      "100%|██████████| 90/90 [05:14<00:00,  3.50s/it]\n"
     ]
    },
    {
     "name": "stdout",
     "output_type": "stream",
     "text": [
      "Extracting and preparing bus routes:\n"
     ]
    },
    {
     "name": "stderr",
     "output_type": "stream",
     "text": [
      "100%|██████████| 1010/1010 [1:05:44<00:00,  3.91s/it]\n"
     ]
    },
    {
     "name": "stdout",
     "output_type": "stream",
     "text": [
      "Public transport graph done!\n",
      "Union of graphs...\n"
     ]
    },
    {
     "name": "stderr",
     "output_type": "stream",
     "text": [
      "100%|██████████| 49102/49102 [00:00<00:00, 56259.98it/s]\n",
      "100%|██████████| 27894/27894 [00:00<00:00, 58998.05it/s]\n"
     ]
    },
    {
     "name": "stdout",
     "output_type": "stream",
     "text": [
      "Intermodal graph done!\n"
     ]
    }
   ],
   "source": [
    "intermodal_G = get_intermodal_graph(337422, 32636)"
   ]
  },
  {
   "cell_type": "code",
   "execution_count": null,
   "metadata": {},
   "outputs": [],
   "source": [
    "nx.write_graphml(intermodal_G, \"./graph.graphml\")"
   ]
  }
 ],
 "metadata": {
  "kernelspec": {
   "display_name": "Python 3.9.13 ('common_venv')",
   "language": "python",
   "name": "python3"
  },
  "language_info": {
   "codemirror_mode": {
    "name": "ipython",
    "version": 3
   },
   "file_extension": ".py",
   "mimetype": "text/x-python",
   "name": "python",
   "nbconvert_exporter": "python",
   "pygments_lexer": "ipython3",
   "version": "3.9.16"
  },
  "orig_nbformat": 4,
  "vscode": {
   "interpreter": {
    "hash": "7670ac83fdd1c212b41bd83cc29098e9d8ea104aed818972b6b1c02791ee2b7b"
   }
  }
 },
 "nbformat": 4,
 "nbformat_minor": 2
}
